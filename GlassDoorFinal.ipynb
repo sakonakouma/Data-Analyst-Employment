{
 "cells": [
  {
   "cell_type": "code",
   "execution_count": 6,
   "metadata": {},
   "outputs": [],
   "source": [
    "import pandas as pd \n",
    "import os\n",
    "import requests \n"
   ]
  },
  {
   "cell_type": "code",
   "execution_count": 7,
   "metadata": {},
   "outputs": [],
   "source": [
    "# Import DA Job csv\n",
    "da_job = pd.read_csv(\"Resources/DataAnalyst.csv\")\n",
    "\n",
    "# Drop unnecessary columns\n",
    "da_job_data = da_job[[\"ID\", \"Job Title\", \"Salary Estimate\", \"Job Description\", \"Rating\", \"Company Name\", \"Location\", \"Headquarters\", \"Size\", \n",
    "                                     \"Founded\", \"Type of ownership\", \"Industry\", \"Sector\", \"Revenue\", \"Competitors\", \"Easy Apply\"]]\n",
    "# create df\n",
    "da_job_data_df = pd.DataFrame(da_job_data)\n",
    "\n",
    "# drop columns\n",
    "gd_df = da_job_data_df.drop(['Easy Apply'], axis=1)\n"
   ]
  },
  {
   "cell_type": "code",
   "execution_count": 8,
   "metadata": {},
   "outputs": [],
   "source": [
    "# Determine top 50 cities with data analyst jobs\n",
    "\n",
    "# group by city\n",
    "t50 = gd_df.groupby('Location').count()[\"ID\"]\n",
    "\n",
    "#create df\n",
    "t50_df = pd.DataFrame({\"gaJobs\": t50})\n",
    "\n",
    "#reset index\n",
    "t50_df = t50_df.reset_index(drop=False)\n",
    "\n",
    "# sort data\n",
    "t50_df = t50_df.sort_values(['gaJobs', 'Location'], ascending=[False, True]).head(50)\n"
   ]
  },
  {
   "cell_type": "code",
   "execution_count": 9,
   "metadata": {},
   "outputs": [],
   "source": [
    "# join 2 tables to filter job table by top 50 city\n",
    "\n",
    "gd_t50_df = gd_df.merge(t50_df,how='right', left_on='Location', right_on='Location')\n",
    "\n",
    "# drop columns\n",
    "gd_t50_df = gd_t50_df.drop(['gaJobs', 'ID'], axis=1)\n",
    "\n",
    "# export to csv\n",
    "outname = 'glassdoorfinal.csv'\n",
    "\n",
    "outdir = './output_data'\n",
    "if not os.path.exists(outdir):\n",
    "    os.mkdir(outdir)\n",
    "\n",
    "fullname = os.path.join(outdir, outname)    \n",
    "\n",
    "gd_t50_df.to_csv(fullname)"
   ]
  },
  {
   "cell_type": "code",
   "execution_count": 10,
   "metadata": {},
   "outputs": [],
   "source": [
    "# reset index\n",
    "t50_df.reset_index(drop=True, inplace=True)\n",
    "\n",
    "# split city and state into own columns\n",
    "t50_df[['City','State']] = t50_df.Location.str.split(\",\",expand=True,)\n",
    "\n",
    "# drop columns\n",
    "t50_df = t50_df.drop(['gaJobs', 'State'], axis=1)\n",
    "\n",
    "# export to csv\n",
    "\n",
    "outname = 'top50city.csv'\n",
    "\n",
    "outdir = './output_data'\n",
    "if not os.path.exists(outdir):\n",
    "    os.mkdir(outdir)\n",
    "\n",
    "fullname = os.path.join(outdir, outname)    \n",
    "\n",
    "t50_df.to_csv(fullname)\n"
   ]
  },
  {
   "cell_type": "code",
   "execution_count": null,
   "metadata": {},
   "outputs": [],
   "source": []
  }
 ],
 "metadata": {
  "kernelspec": {
   "display_name": "Python 3",
   "language": "python",
   "name": "python3"
  },
  "language_info": {
   "codemirror_mode": {
    "name": "ipython",
    "version": 3
   },
   "file_extension": ".py",
   "mimetype": "text/x-python",
   "name": "python",
   "nbconvert_exporter": "python",
   "pygments_lexer": "ipython3",
   "version": "3.7.7"
  }
 },
 "nbformat": 4,
 "nbformat_minor": 4
}
